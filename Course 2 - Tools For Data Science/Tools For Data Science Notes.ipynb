{
 "cells": [
  {
   "cell_type": "markdown",
   "id": "84f6d1f3-2872-4f71-9c77-226c8956a81c",
   "metadata": {},
   "source": [
    "# <center> Tools for Data Science</center>\n",
    "***"
   ]
  },
  {
   "cell_type": "markdown",
   "id": "0c15cdb5-d1ce-4ddf-bb6b-f53d625d2121",
   "metadata": {},
   "source": [
    "## Course Syllabus:\n",
    "\n",
    "### [Week 1: Data Scientist's Toolkit](#week1)\n",
    "- In this module, you will get an overview of the programming languages commonly used, including Python, R, Scala, and SQL. You’ll be introduced to the open source and commercial data science tools available. You’ll also learn about the packages, APIs, data sets and models frequently used by Data Scientists.\n",
    "\n",
    "### [Week 2: Open Source Tools](#week2)\n",
    "- In this module, you will learn about three popular tools used in data science: GitHub, Jupyter Notebooks, and RStudio IDE. You will become familiar with the features of each tool, and what makes these tools so popular among data scientists today.\n",
    "\n",
    "### [Week 3: IBM Tools for Data Science](#week3)\n",
    "- In this module, you will learn about an enterprise-ready data science platform by IBM, called Watson Studio. You'll learn about some of the features and capabilities of what data scientists use in the industry. You’ll also learn about other IBM tools used to support data science projects, such as IBM Watson Knowledge Catalog, Data Refinery, and the SPSS Modeler.\n",
    "\n",
    "### [Week 4: Final Assignment: Create and Share Your Jupyter Notebook](#week4)\n",
    "- In this module, you will demonstrate your skills by creating and configuring a Jupyter Notebook. As part of your grade for this course, you will share your Jupyter Notebook with your peers for review."
   ]
  },
  {
   "cell_type": "markdown",
   "id": "22d88b87-61de-4068-83e0-0937c70f6186",
   "metadata": {},
   "source": [
    "***\n",
    "### Week 1  <a class=\"anchor\" id=\"week1\"></a>: Data Scientist's Toolkit\n",
    "\n",
    "#### Week 1 Objectives:\n",
    "* Cite popular open source, commercial, and cloud-based tools used by data scientists.\n",
    "* Explain the function of an API and list some common API-related terms.\n",
    "* Discuss the characteristics of a dataset and the ways data can be structured.\n",
    "* Identify  some of the libraries used in data science and the types of functionalities a library can provide.\n",
    "* Compare and contrast between machine learning, deep learning and their use cases.\n",
    "* Discuss the different classes of machine learning models.\n",
    "* Summarize the advantages of using a pre-trained model as opposed to training a model from scratch.\n",
    "* Identify the languages, tools, and data used by data scientists.\n",
    "* Access and explore data sets in the Data Asset Exchange (DAX).\n",
    "* Examine deep learning models on the Model Asset Exchange (MAX) and interact with an image-detection deep learning model.\n",
    "\n",
    "##### Section 1: Languages of Data Science\n",
    "* Languages of Data Science\n",
    "* Introduction to Python\n",
    "* Introduction to R Language\n",
    "* Introduction to SQL\n",
    "* Other Languages\n",
    "\n",
    "###### Section 2: Data Science Tools\n",
    "* Categories of Data Science Tools\n",
    "* Open Source Tools for Data Science\n",
    "* Commercial Tools for Data Science\n",
    "* Cloud Based Tools for Data Science\n",
    "\n",
    "##### Section 3: APIs, Data Sets, and Models\n",
    "* Libraries for Data Science\n",
    "* Application Programming Interfaces (APIs)\n",
    "* Data Sets - Powering Data Science\n",
    "* Sharing Enterprise Data - Data Asset eXchange\n",
    "* Machine Learning Models\n",
    "* The Model Asset Exchange"
   ]
  },
  {
   "cell_type": "markdown",
   "id": "b334c0eb-ead9-4fe4-af55-e803e9a777cb",
   "metadata": {},
   "source": [
    "***\n",
    "### Week 2  <a class=\"anchor\" id=\"week2\"></a>: Open Source Tools\n",
    "\n",
    "#### Week 2 Objectives:\n",
    "* Describe the fundamentals of Jupyter Notebooks and the JupyterLab platform and why they are popular for data science projects.\n",
    "* Cite some examples of how Jupyter is used in data science for recording experiments and projects.\n",
    "* Use Jupyter notebooks to experiment with code cells, create data visualization slides, and reporting results using Markdown.\n",
    "* Create a Jupyter notebook with Python and use it to run code, change kernels, and save your work.\n",
    "* Define the R programming language and discuss its application in data science.\n",
    "* Use RStudio packages to experiment with plotting.\n",
    "* Explain versioning, branching and why they’re vital to the software development process.\n",
    "* Create, edit, and upload new files in GitHub.\n",
    "* Use GitHub to create a branch, commit changes, and initiate a pull request.\n",
    "\n",
    "##### Section 1: Jupyter Notebook and JupyterLab\n",
    "* Introduction to Jupyter Notebook\n",
    "* Getting Started with Jupyter\n",
    "* Jupyter Kernels\n",
    "* Jupyter Architecture\n",
    "* Jupyter Notebooks on the Internet\n",
    "\n",
    "##### Section 2: RStudio IDE\n",
    "* Introduction to R and RStudio\n",
    "* Plotting within RStudio\n",
    "* Getting started with RStudio and Installing packages\n",
    "\n",
    "##### Section 3: Github\n",
    "\n",
    "* Overview of Git/GitHub\n",
    "* GitHub - Getting Started\n",
    "* GitHub - Working with Branches\n",
    "* Git and GitHub via command line\n",
    "* Contributing to Repositories via pull request"
   ]
  },
  {
   "cell_type": "markdown",
   "id": "307348b2-61ea-4b25-946f-21513b9bdc3d",
   "metadata": {},
   "source": [
    "***\n",
    "### Week 3  <a class=\"anchor\" id=\"week3\"></a>: IBM Tools for Data Science\n",
    "\n",
    "#### Week 3 Objectives:\n",
    "* Define the Watson Studio.\n",
    "* Explain how Watson Studio can streamline data projects and make them easier to manage.\n",
    "* List some of the primary assets included in Watson Studio.\n",
    "* Create a project in Watson Studio and add an interactive Jupyter workbook to work with a real data set. Link GitHub to Watson Studio and explain when to use public vs. private repositories.\n",
    "* Describe other tools essential to data science and their applications.\n",
    "* Describe Data Refinery and how it benefits the data scientists who use it.\n",
    "* Describe the IBM SSPS Modeler, its usage, and some of the capabilities it offers.\n",
    "* Load and run a sample project in Watson Studio and examine the results.\n",
    "* Use Watson Studio to run an autonumeric model, examine the results and get predictions for new use cases.\n",
    "* Describe the use case for the IBM SPSS Modeler and list a few of its main features.\n",
    "* Summarize the characteristics of the IBM SPSS Statistics software application and its use by data scientists.\n",
    "* Explain how models are deployed into production environments.\n",
    "* Summarize how Auto AI in Watson Studio benefits organizations who lack a fully staffed data science team.\n",
    "* List the features included with IBM Watson and explain how it ensures fairness and explainability of model drift.\n",
    "\n",
    "##### Section 1: Watson Studio\n",
    "* What is IBM Watson Studio\n",
    "* Watson Studio Introduction\n"
   ]
  }
 ],
 "metadata": {
  "kernelspec": {
   "display_name": "Python 3 (ipykernel)",
   "language": "python",
   "name": "python3"
  },
  "language_info": {
   "codemirror_mode": {
    "name": "ipython",
    "version": 3
   },
   "file_extension": ".py",
   "mimetype": "text/x-python",
   "name": "python",
   "nbconvert_exporter": "python",
   "pygments_lexer": "ipython3",
   "version": "3.9.12"
  }
 },
 "nbformat": 4,
 "nbformat_minor": 5
}
