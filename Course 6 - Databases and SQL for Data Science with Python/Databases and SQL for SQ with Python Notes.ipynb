{
 "cells": [
  {
   "cell_type": "markdown",
   "id": "5db4e0c5-cff8-4e9a-bd3e-49119781b2f4",
   "metadata": {},
   "source": [
    "# <center> Databases and SQL for Data Science with Python </center>"
   ]
  },
  {
   "cell_type": "markdown",
   "id": "04c1f38f-97b4-4c95-954f-0ec22a85fddd",
   "metadata": {},
   "source": [
    "***\n",
    "## About this Course\n",
    "Much of the world's data resides in databases. SQL (or Structured Query Language) is a powerful language which is used for communicating with and extracting data from databases. A working knowledge of databases and SQL is a must if you want to become a data scientist.\n",
    "\n",
    "The purpose of this course is to introduce relational database concepts and help you learn and apply foundational knowledge of the SQL language. It is also intended to get you started with performing SQL access in a data science environment.  \n",
    "\n",
    "The emphasis in this course is on hands-on and practical learning . As such, you will work with real databases, real data science tools, and real-world datasets. You will create a database instance in the cloud. Through a series of hands-on labs you will practice building and running SQL queries. You will also learn how to access databases from Jupyter notebooks using SQL and Python.\n",
    "\n",
    "## Course Syllabus\n",
    "### [Week 1: Getting Started with SQL](#week1)\n",
    "In this module, you will be introduced to databases. You will create a database instance on the cloud. You will learn some of the basic SQL statements. You will also write and practice basic SQL hands-on on a live database.\n",
    "### [Week 2: Introduction to Relational Databases and Tables](#week2)\n",
    "In this module, you will explore the fundamental concepts behind databases, tables, and the relationships between them. You will then create an instance of a database, discover SQL statements that allow you to create and manipulate tables, and then practice them on your own live database.\n",
    "### [Week 3: Intermediate SQL](#week3)\n",
    "In this module, you will learn how to use string patterns and ranges to search data and how to sort and group data in result sets. You will also practice composing nested queries and execute select statements to access data from multiple tables.\n",
    "### [Week 4: Accessing Databases using Python](#week4)\n",
    "In this module you will learn the basic concepts related to using Python to connect to databases. In a Jupyter Notebook, you will create tables, load data, query data using SQL, and analyze data using Python.\n",
    "### [Week 5: Course Assignment](#week5)\n",
    "In this assignment, you will be working with multiple real world datasets for the city of Chicago. You will be asked questions that will help you understand the data just as you would in the real wold. You will be assessed on the correctness of your SQL queries and results."
   ]
  },
  {
   "cell_type": "markdown",
   "id": "6a099d8c-0000-4dd9-b499-d23817466fec",
   "metadata": {},
   "source": [
    "***\n",
    "### Week 1: Getting Started with SQL <a class=\"anchor\" id=\"week1\"></a>\n",
    "\n",
    "#### Week 1 Objectives:\n",
    "* Demonstrate how to write basic SQL statements\n",
    "* Describe SQL and Databases\n",
    "* Create and execute CREATE TABLE, SELECT, INSERT, and DELETE SQL statements with a live database\n",
    "\n",
    "#### "
   ]
  }
 ],
 "metadata": {
  "kernelspec": {
   "display_name": "Python 3 (ipykernel)",
   "language": "python",
   "name": "python3"
  },
  "language_info": {
   "codemirror_mode": {
    "name": "ipython",
    "version": 3
   },
   "file_extension": ".py",
   "mimetype": "text/x-python",
   "name": "python",
   "nbconvert_exporter": "python",
   "pygments_lexer": "ipython3",
   "version": "3.9.12"
  }
 },
 "nbformat": 4,
 "nbformat_minor": 5
}
