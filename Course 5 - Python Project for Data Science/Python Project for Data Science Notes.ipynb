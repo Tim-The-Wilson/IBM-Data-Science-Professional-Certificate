{
 "cells": [
  {
   "cell_type": "markdown",
   "id": "5eb685da-fc41-45f1-babf-0f9f8d0093c9",
   "metadata": {},
   "source": [
    "# <center> Python Project for Data Science </center>"
   ]
  },
  {
   "cell_type": "markdown",
   "id": "7bfd5c65-8d8c-4ec3-8568-7de6db266ea3",
   "metadata": {},
   "source": [
    "***\n",
    "\n",
    "## About this Course:\n",
    "This mini-course is intended to for you to demonstrate foundational Python skills for working with data. The completion of this course involves working on a hands-on project where you will develop a simple dashboard using Python.\n",
    "\n",
    "## Project Overview:\n",
    "For this project, you will assume the role of a Data Scientist / Data Analyst working for a new startup investment firm that helps customers invest their money in stocks. Your job is to extract financial data like historical share price and quarterly revenue reportings from various sources using Python libraries and webscraping on popular stocks. After collecting this data you will visualize it in a dashboard to identify patterns or trends. The stocks we will work with are Tesla, Amazon, AMD, and GameStop.\n",
    "\n",
    "#### Dashboard Analytics Displayed\n",
    "A dashboard often provides a view of key performance indicators in a clear way. Analyzing a data set and extracting key performance indicators will be practiced. Prompts will be used to support learning in accessing and displaying data in dashboards. Learning how to display key performance indicators on a dashboard will be included in this assignment. We will be using Plotly in this course for data visualization and is not a requirement to take this course.\n",
    "\n",
    "### List of notebooks completed for this course:\n",
    "\n",
    "* [Review of Webscraping](WRL Link)\n",
    "* [Extracting Stock Data Using Python Library](Final_Assignment_Library)\n",
    "* [Extracting Stock Data Using a Web Scraping](Final_Assignment_Webscraping)\n",
    "* [Final Assignment](Final_Assignment)\n"
   ]
  }
 ],
 "metadata": {
  "kernelspec": {
   "display_name": "Python 3 (ipykernel)",
   "language": "python",
   "name": "python3"
  },
  "language_info": {
   "codemirror_mode": {
    "name": "ipython",
    "version": 3
   },
   "file_extension": ".py",
   "mimetype": "text/x-python",
   "name": "python",
   "nbconvert_exporter": "python",
   "pygments_lexer": "ipython3",
   "version": "3.9.12"
  }
 },
 "nbformat": 4,
 "nbformat_minor": 5
}
